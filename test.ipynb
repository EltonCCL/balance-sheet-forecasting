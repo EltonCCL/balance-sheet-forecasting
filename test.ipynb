{
 "cells": [
  {
   "cell_type": "code",
   "execution_count": 9,
   "id": "09680f4e",
   "metadata": {},
   "outputs": [],
   "source": [
    "import pandas as pd\n",
    "import yfinance as yf\n",
    "\n",
    "# Specify the stock you want to analyze (e.g., Medco)\n",
    "# AAPL\n",
    "# MSFT\n",
    "# GOOG\n",
    "ticker = yf.Ticker('MSFT')"
   ]
  },
  {
   "cell_type": "code",
   "execution_count": 10,
   "id": "3a3f10ee",
   "metadata": {},
   "outputs": [
    {
     "data": {
      "text/plain": [
       "DatetimeIndex(['2024-06-30', '2023-06-30', '2022-06-30', '2021-06-30'], dtype='datetime64[ns]', freq=None)"
      ]
     },
     "execution_count": 10,
     "metadata": {},
     "output_type": "execute_result"
    }
   ],
   "source": [
    "ticker.balance_sheet.columns"
   ]
  },
  {
   "cell_type": "code",
   "execution_count": 11,
   "id": "45f31e3c",
   "metadata": {},
   "outputs": [],
   "source": [
    "balance_sheet = ticker.balancesheet\n",
    "income_statement = ticker.financials\n",
    "cash_flow = ticker.cashflow"
   ]
  },
  {
   "cell_type": "code",
   "execution_count": 12,
   "id": "63f04af9",
   "metadata": {},
   "outputs": [],
   "source": [
    "base_year = balance_sheet.columns[-1]"
   ]
  },
  {
   "cell_type": "code",
   "execution_count": null,
   "id": "e03e9a7d",
   "metadata": {},
   "outputs": [],
   "source": []
  },
  {
   "cell_type": "code",
   "execution_count": 13,
   "id": "f5b35b93",
   "metadata": {},
   "outputs": [],
   "source": [
    "base_balance_sheet = {\n",
    "    'total_assets': {\n",
    "        'current_assets': {\n",
    "            'cash_and_equivalents': balance_sheet[base_year]['Cash Cash Equivalents And Short Term Investments'],\n",
    "            'receivables': balance_sheet[base_year]['Receivables'],\n",
    "            'Inventory': balance_sheet[base_year]['Inventory'],\n",
    "            'hedging_assets_current': balance_sheet[base_year]['Hedging Assets Current'],\n",
    "            'other_current_assets': balance_sheet[base_year]['Other Current Assets']\n",
    "        },\n",
    "        'non_current_assets': {\n",
    "            'net_ppe': balance_sheet[base_year]['Net PPE'],\n",
    "            'investments': balance_sheet[base_year]['Investments And Advances'],\n",
    "            'goodwill': balance_sheet[base_year]['Goodwill And Other Intangible Assets'],\n",
    "            'other_non_current_assets': balance_sheet[base_year]['Other Non Current Assets']\n",
    "        }\n",
    "    },\n",
    "    'total_liabilities': {\n",
    "        'current_liabilities': {\n",
    "            'payables_and_accrued_expenses': balance_sheet[base_year]['Payables And Accrued Expenses'],\n",
    "            'pension_and_other_postretirement_benefits': balance_sheet[base_year]['Pensionand Other Post Retirement Benefit Plans Current'],\n",
    "            'current_debt': balance_sheet[base_year]['Current Debt And Capital Lease Obligation'],\n",
    "            'current_deferred_liabilities': balance_sheet[base_year]['Current Deferred Liabilities'],\n",
    "            'other_current_liabilities': balance_sheet[base_year]['Other Current Liabilities']\n",
    "        },\n",
    "        'non_current_liabilities': {\n",
    "            'long_term_debt': balance_sheet[base_year]['Long Term Debt And Capital Lease Obligation'],\n",
    "            'non_current_deferred_liabilities': balance_sheet[base_year]['Non Current Deferred Liabilities'],\n",
    "            'tradeand_other_payables_non_current': balance_sheet[base_year]['Tradeand Other Payables Non Current'],\n",
    "            'other_non_current_liabilities': balance_sheet[base_year]['Other Non Current Liabilities']\n",
    "        }\n",
    "    },\n",
    "    'total_equity': {\n",
    "        'capital_stock': balance_sheet[base_year]['Capital Stock'],\n",
    "        'retained_earnings': balance_sheet[base_year]['Retained Earnings'],\n",
    "        'gains_losses_not_affecting_retained_earning': balance_sheet[base_year]['Gains Losses Not Affecting Retained Earnings'],\n",
    "    }\n",
    "}\n",
    "\n",
    "# write a recursive function that pass in a dictionary and return the sum of all values in the dictionary\n",
    "def sum_dict_values(d):\n",
    "    total = 0\n",
    "    for key, value in d.items():\n",
    "        if isinstance(value, dict):\n",
    "            total += sum_dict_values(value)\n",
    "        else:\n",
    "            total += value\n",
    "    return total\n",
    "assert sum_dict_values(base_balance_sheet['total_assets']) == balance_sheet[base_year]['Total Assets'], \"Total assets do not match the sum of current and non-current assets.\"\n",
    "assert sum_dict_values(base_balance_sheet['total_liabilities']) == balance_sheet[base_year]['Total Liabilities Net Minority Interest'], \"Total liabilities do not match the sum of current and non-current liabilities.\"\n",
    "assert sum_dict_values(base_balance_sheet['total_equity']) == balance_sheet[base_year]['Total Equity Gross Minority Interest'], \"Total equity does not match the sum of capital stock, retained earnings, and gains/losses not affecting retained earnings.\"\n",
    "assert sum_dict_values(base_balance_sheet['total_assets']) - sum_dict_values(base_balance_sheet['total_liabilities']) - sum_dict_values(base_balance_sheet['total_equity']) == 0, \"The balance sheet equation does not hold: Total Assets = Total Liabilities + Total Equity.\"\n",
    "assert balance_sheet[base_year]['Total Assets'] - balance_sheet[base_year]['Total Liabilities Net Minority Interest'] - balance_sheet[base_year]['Total Equity Gross Minority Interest'] == 0, \"The real balance sheet equation does not hold: Total Assets = Total Liabilities + Total Equity.\"\n",
    "assert sum_dict_values(base_balance_sheet) == (balance_sheet[base_year]['Total Assets'] + balance_sheet[base_year]['Total Liabilities Net Minority Interest'] + balance_sheet[base_year]['Total Equity Gross Minority Interest']), \"Total balance sheet does not match the actual sum of total assets, total liabilities, and total equity.\""
   ]
  },
  {
   "cell_type": "code",
   "execution_count": 14,
   "id": "0362654f",
   "metadata": {},
   "outputs": [],
   "source": [
    "base_income_statement = {\n",
    "    'total_revenue': income_statement[base_year]['Total Revenue'],\n",
    "    'cost_of_revenue': income_statement[base_year]['Cost Of Revenue'],\n",
    "    'gross_profit': income_statement[base_year]['Gross Profit'],\n",
    "    'operating_expenses': income_statement[base_year]['Operating Expense'],\n",
    "    'operating_income': income_statement[base_year]['Operating Income'],\n",
    "    'net_non_operating_interest_income_expense': income_statement[base_year]['Net Non Operating Interest Income Expense'],\n",
    "    'other_income_expense': income_statement[base_year]['Other Income Expense'],\n",
    "    'pretax_income': income_statement[base_year]['Pretax Income'],\n",
    "    'tax_provision': income_statement[base_year]['Tax Provision'],\n",
    "    'net_income_common_stockholders': income_statement[base_year]['Net Income Common Stockholders'],\n",
    "}\n",
    "\n",
    "assert base_income_statement['total_revenue'] - base_income_statement['cost_of_revenue'] == base_income_statement['gross_profit'], \"Gross profit does not match total revenue minus cost of revenue.\"\n",
    "assert base_income_statement['gross_profit'] - base_income_statement['operating_expenses'] == base_income_statement['operating_income'], \"Operating income does not match gross profit minus operating expenses.\"\n",
    "assert base_income_statement['operating_income'] + base_income_statement['net_non_operating_interest_income_expense'] + base_income_statement['other_income_expense'] == base_income_statement['pretax_income'], \"Pretax income does not match operating income minus net non-operating interest income/expense and other income/expense.\"\n",
    "assert base_income_statement['pretax_income'] - base_income_statement['tax_provision'] == base_income_statement['net_income_common_stockholders'], \"Net income does not match pretax income minus tax provision.\""
   ]
  },
  {
   "cell_type": "code",
   "execution_count": 15,
   "id": "25ea01bd",
   "metadata": {},
   "outputs": [],
   "source": [
    "base_cash_flow = {\n",
    "    'capital_expenditure': cash_flow[base_year]['Capital Expenditure'],\n",
    "    'depreciation_amortization_depletion': cash_flow[base_year]['Depreciation Amortization Depletion'],\n",
    "    'cash_dividends_paid': cash_flow[base_year]['Cash Dividends Paid'],\n",
    "}"
   ]
  },
  {
   "cell_type": "code",
   "execution_count": 16,
   "id": "3188c178",
   "metadata": {},
   "outputs": [],
   "source": [
    "meta_attributes = {\n",
    "    'sales_growth_rate': 1.05,\n",
    "    'operating_margin': base_income_statement['operating_income'] / base_income_statement['total_revenue'],\n",
    "    'capex_as_percentage_of_sales': base_cash_flow['capital_expenditure'] / base_income_statement['total_revenue'],\n",
    "    'depreciation_amortization_depletion_as_percentage_of_net_ppe': base_cash_flow['depreciation_amortization_depletion'] / base_balance_sheet['total_assets']['non_current_assets']['net_ppe'],\n",
    "    'interest_rate_on_debt': base_income_statement['net_non_operating_interest_income_expense'] / (base_balance_sheet['total_liabilities']['current_liabilities']['current_debt'] + base_balance_sheet['total_liabilities']['non_current_liabilities']['long_term_debt']),\n",
    "    'tax_rate': base_income_statement['tax_provision'] / base_income_statement['pretax_income'],\n",
    "    'dividend_payout_ratio': base_cash_flow['cash_dividends_paid'] / base_income_statement['net_income_common_stockholders'],\n",
    "    'minimum_cash_required': base_balance_sheet['total_assets']['current_assets']['cash_and_equivalents'],\n",
    "}"
   ]
  },
  {
   "cell_type": "code",
   "execution_count": 17,
   "id": "877a4968",
   "metadata": {},
   "outputs": [],
   "source": [
    "# --- \"No Change\" Sanity Check Assumptions ---\n",
    "\n",
    "meta_attributes = {\n",
    "    # 1. No growth in sales.\n",
    "    'sales_growth_rate': 1.0,  # representing 0% growth.\n",
    "\n",
    "    # 2. Margins and historical ratios remain the same. These are correctly defined.\n",
    "    'operating_margin': base_income_statement['operating_income'] / base_income_statement['total_revenue'],\n",
    "    'capex_as_percentage_of_sales': base_cash_flow['capital_expenditure'] / base_income_statement['total_revenue'],\n",
    "    'depreciation_amortization_depletion_as_percentage_of_net_ppe': base_cash_flow['depreciation_amortization_depletion'] / base_balance_sheet['total_assets']['non_current_assets']['net_ppe'], # Corrected to be % of Net PPE\n",
    "    'interest_rate_on_debt': base_income_statement['net_non_operating_interest_income_expense'] / (base_balance_sheet['total_liabilities']['current_liabilities']['current_debt'] + base_balance_sheet['total_liabilities']['non_current_liabilities']['long_term_debt']),\n",
    "    'tax_rate': base_income_statement['tax_provision'] / base_income_statement['pretax_income'],\n",
    "    'dividend_payout_ratio': 1.0,\n",
    "\n",
    "    # 3. CRITICAL: For a true \"no change\", Capex must equal Depreciation.\n",
    "    #    We will enforce this in the model logic itself rather than here.\n",
    "    #    The logic will be: Forecast_Depreciation = Net_PPE(t) * depreciation_rate\n",
    "    #                       Forecast_Capex = Forecast_Depreciation\n",
    "    #    This ensures the Net PPE base does not grow or shrink.\n",
    "\n",
    "    # 4. Minimum cash required is the same as last year's ending cash.\n",
    "    'minimum_cash_required': base_balance_sheet['total_assets']['current_assets']['cash_and_equivalents'],\n",
    "}\n"
   ]
  },
  {
   "cell_type": "code",
   "execution_count": 18,
   "id": "0b5ab982",
   "metadata": {},
   "outputs": [],
   "source": [
    "# --- Start with Base Year (t) Data ---\n",
    "# All your 'base_balance_sheet', 'base_income_statement', etc. data is here.\n",
    "\n",
    "# --- Use \"No Change\" Assumptions ---\n",
    "# The 'meta_attributes' dictionary we defined for the sanity check.\n",
    "\n",
    "# --- Create a dictionary to hold the forecast results for Year t+1 ---\n",
    "forecast_t_plus_1 = {}\n",
    "\n",
    "# --- Extract key base year numbers for clarity ---\n",
    "sales_t = base_income_statement['total_revenue']\n",
    "net_ppe_t = base_balance_sheet['total_assets']['non_current_assets']['net_ppe']\n",
    "total_debt_t = base_balance_sheet['total_liabilities']['current_liabilities']['current_debt'] + base_balance_sheet['total_liabilities']['non_current_liabilities']['long_term_debt']\n",
    "cash_t = base_balance_sheet['total_assets']['current_assets']['cash_and_equivalents']\n",
    "retained_earnings_t = base_balance_sheet['total_equity']['retained_earnings']\n",
    "common_stock_t = base_balance_sheet['total_equity']['capital_stock']\n"
   ]
  },
  {
   "cell_type": "code",
   "execution_count": 19,
   "id": "055bc9b4",
   "metadata": {},
   "outputs": [],
   "source": [
    "# --- Top-to-bottom calculation ---\n",
    "\n",
    "forecast_t_plus_1['sales'] = sales_t * meta_attributes['sales_growth_rate']  # sales_growth_rate = 1.0\n",
    "\n",
    "forecast_t_plus_1['operating_income'] = forecast_t_plus_1['sales'] * meta_attributes['operating_margin']\n",
    "\n",
    "# Calculate Depreciation for t+1 first, as it's needed for EBIT and for the Capex assumption\n",
    "forecast_t_plus_1['depreciation'] = net_ppe_t * meta_attributes['depreciation_amortization_depletion_as_percentage_of_net_ppe']\n",
    "\n",
    "# Note: In a full model, EBIT would be Sales - COGS - OpEx. Here, 'operating_income' is our proxy for EBIT.\n",
    "# For simplicity, we assume 'operating_income' is post-depreciation.\n",
    "# If 'operating_income' was pre-depreciation (like EBITDA), the line would be:\n",
    "# forecast_t_plus_1['ebit'] = forecast_t_plus_1['operating_income'] - forecast_t_plus_1['depreciation']\n",
    "# Let's assume your 'operating_income' is already EBIT for this exercise.\n",
    "forecast_t_plus_1['ebit'] = forecast_t_plus_1['operating_income']\n",
    "\n",
    "forecast_t_plus_1['interest_expense'] = total_debt_t * meta_attributes['interest_rate_on_debt']\n",
    "# <-- KEY \"NO CIRCULARITY\" STEP: Interest is based on KNOWN debt from Year t.\n",
    "\n",
    "forecast_t_plus_1['pretax_income'] = forecast_t_plus_1['ebit'] - forecast_t_plus_1['interest_expense']\n",
    "\n",
    "forecast_t_plus_1['tax_provision'] = forecast_t_plus_1['pretax_income'] * meta_attributes['tax_rate']\n",
    "\n",
    "forecast_t_plus_1['net_income'] = forecast_t_plus_1['pretax_income'] - forecast_t_plus_1['tax_provision']"
   ]
  },
  {
   "cell_type": "code",
   "execution_count": 20,
   "id": "a87c51a6",
   "metadata": {},
   "outputs": [],
   "source": [
    "# --- Calculate Cash Flows from Operations, Investing, and Financing ---\n",
    "\n",
    "# Cash Flow from Operations (CFO) - Simple Version\n",
    "# Start with Net Income and add back non-cash Depreciation\n",
    "cfo_t_plus_1 = forecast_t_plus_1['net_income'] + forecast_t_plus_1['depreciation']\n",
    "\n",
    "# Cash Flow from Investing (CFI)\n",
    "# *** ENFORCE THE \"NO CHANGE\" RULE: Capex = Depreciation ***\n",
    "forecast_t_plus_1['capex'] = forecast_t_plus_1['depreciation']\n",
    "cfi_t_plus_1 = -forecast_t_plus_1['capex']\n",
    "\n",
    "# Scheduled Cash Flow from Financing (CFF)\n",
    "forecast_t_plus_1['dividends_paid'] = forecast_t_plus_1['net_income'] * meta_attributes['dividend_payout_ratio']\n",
    "scheduled_cff_t_plus_1 = -forecast_t_plus_1['dividends_paid']\n",
    "\n",
    "# --- Calculate the company's cash position BEFORE any new borrowing or investing ---\n",
    "net_cash_flow_before_new_financing = cfo_t_plus_1 + cfi_t_plus_1 + scheduled_cff_t_plus_1\n",
    "\n",
    "provisional_cash_balance = cash_t + net_cash_flow_before_new_financing\n",
    "\n",
    "# --- The \"No-Plug\" Decision Logic ---\n",
    "cash_surplus_or_deficit = provisional_cash_balance - meta_attributes['minimum_cash_required']\n",
    "\n",
    "if cash_surplus_or_deficit < 0:\n",
    "    forecast_t_plus_1['new_debt_needed'] = -cash_surplus_or_deficit\n",
    "    forecast_t_plus_1['new_st_investment'] = 0\n",
    "else:\n",
    "    forecast_t_plus_1['new_debt_needed'] = 0\n",
    "    forecast_t_plus_1['new_st_investment'] = cash_surplus_or_deficit\n",
    "\n",
    "# FOR THE \"NO CHANGE\" TEST, WE EXPECT 'new_debt_needed' AND 'new_st_investment' TO BE ZERO!"
   ]
  },
  {
   "cell_type": "code",
   "execution_count": 21,
   "id": "f8ea6bf6",
   "metadata": {},
   "outputs": [],
   "source": [
    "# --- Create a new, structured dictionary for the BS t+1 ---\n",
    "# It will have the same structure as your 'base_balance_sheet'\n",
    "forecast_bs_t_plus_1 = {\n",
    "    'total_assets': {'current_assets': {}, 'non_current_assets': {}},\n",
    "    'total_liabilities': {'current_liabilities': {}, 'non_current_liabilities': {}},\n",
    "    'total_equity': {}\n",
    "}\n",
    "\n",
    "#=====================================================================\n",
    "# ASSETS Side: Update the items that change, carry over the rest\n",
    "#=====================================================================\n",
    "\n",
    "# --- Current Assets ---\n",
    "forecast_bs_t_plus_1['total_assets']['current_assets']['cash_and_equivalents'] = cash_t + net_cash_flow_before_new_financing + forecast_t_plus_1['new_debt_needed'] - forecast_t_plus_1['new_st_investment']\n",
    "forecast_bs_t_plus_1['total_assets']['current_assets']['receivables'] = base_balance_sheet['total_assets']['current_assets']['receivables']\n",
    "forecast_bs_t_plus_1['total_assets']['current_assets']['Inventory'] = base_balance_sheet['total_assets']['current_assets']['Inventory']\n",
    "forecast_bs_t_plus_1['total_assets']['current_assets']['hedging_assets_current'] = base_balance_sheet['total_assets']['current_assets']['hedging_assets_current']\n",
    "forecast_bs_t_plus_1['total_assets']['current_assets']['other_current_assets'] = base_balance_sheet['total_assets']['current_assets']['other_current_assets']\n",
    "\n",
    "# --- Non-Current Assets ---\n",
    "net_ppe_t = base_balance_sheet['total_assets']['non_current_assets']['net_ppe']\n",
    "forecast_bs_t_plus_1['total_assets']['non_current_assets']['net_ppe'] = net_ppe_t - forecast_t_plus_1['depreciation'] + forecast_t_plus_1['capex']\n",
    "\n",
    "investments_t = base_balance_sheet['total_assets']['non_current_assets']['investments']\n",
    "forecast_bs_t_plus_1['total_assets']['non_current_assets']['investments'] = investments_t + forecast_t_plus_1['new_st_investment']\n",
    "\n",
    "forecast_bs_t_plus_1['total_assets']['non_current_assets']['goodwill'] = base_balance_sheet['total_assets']['non_current_assets']['goodwill']\n",
    "forecast_bs_t_plus_1['total_assets']['non_current_assets']['other_non_current_assets'] = base_balance_sheet['total_assets']['non_current_assets']['other_non_current_assets']\n",
    "\n",
    "#=====================================================================\n",
    "# LIABILITIES & EQUITY Side: Update the items that change, carry over the rest\n",
    "#=====================================================================\n",
    "\n",
    "# --- Current Liabilities ---\n",
    "forecast_bs_t_plus_1['total_liabilities']['current_liabilities']['payables_and_accrued_expenses'] = base_balance_sheet['total_liabilities']['current_liabilities']['payables_and_accrued_expenses']\n",
    "forecast_bs_t_plus_1['total_liabilities']['current_liabilities']['pension_and_other_postretirement_benefits'] = base_balance_sheet['total_liabilities']['current_liabilities']['pension_and_other_postretirement_benefits']\n",
    "\n",
    "# THIS IS THE CORRECTED LINE: using your 'current_debt' key\n",
    "forecast_bs_t_plus_1['total_liabilities']['current_liabilities']['current_debt'] = base_balance_sheet['total_liabilities']['current_liabilities']['current_debt']\n",
    "\n",
    "forecast_bs_t_plus_1['total_liabilities']['current_liabilities']['current_deferred_liabilities'] = base_balance_sheet['total_liabilities']['current_liabilities']['current_deferred_liabilities']\n",
    "forecast_bs_t_plus_1['total_liabilities']['current_liabilities']['other_current_liabilities'] = base_balance_sheet['total_liabilities']['current_liabilities']['other_current_liabilities']\n",
    "\n",
    "# --- Non-Current Liabilities ---\n",
    "# THIS IS THE CORRECTED LINE: using your 'long_term_debt' key\n",
    "long_term_debt_t = base_balance_sheet['total_liabilities']['non_current_liabilities']['long_term_debt']\n",
    "forecast_bs_t_plus_1['total_liabilities']['non_current_liabilities']['long_term_debt'] = long_term_debt_t + forecast_t_plus_1['new_debt_needed']\n",
    "\n",
    "forecast_bs_t_plus_1['total_liabilities']['non_current_liabilities']['non_current_deferred_liabilities'] = base_balance_sheet['total_liabilities']['non_current_liabilities']['non_current_deferred_liabilities']\n",
    "forecast_bs_t_plus_1['total_liabilities']['non_current_liabilities']['tradeand_other_payables_non_current'] = base_balance_sheet['total_liabilities']['non_current_liabilities']['tradeand_other_payables_non_current']\n",
    "forecast_bs_t_plus_1['total_liabilities']['non_current_liabilities']['other_non_current_liabilities'] = base_balance_sheet['total_liabilities']['non_current_liabilities']['other_non_current_liabilities']\n",
    "\n",
    "# --- Total Equity ---\n",
    "forecast_bs_t_plus_1['total_equity']['capital_stock'] = base_balance_sheet['total_equity']['capital_stock']\n",
    "\n",
    "retained_earnings_t = base_balance_sheet['total_equity']['retained_earnings']\n",
    "forecast_bs_t_plus_1['total_equity']['retained_earnings'] = retained_earnings_t + forecast_t_plus_1['net_income'] - forecast_t_plus_1['dividends_paid']\n",
    "\n",
    "forecast_bs_t_plus_1['total_equity']['gains_losses_not_affecting_retained_earning'] = base_balance_sheet['total_equity']['gains_losses_not_affecting_retained_earning']"
   ]
  },
  {
   "cell_type": "code",
   "execution_count": 22,
   "id": "8006d407",
   "metadata": {},
   "outputs": [
    {
     "name": "stdout",
     "output_type": "stream",
     "text": [
      "Total Assets (t+1): 333779000000.0\n",
      "Total Liabilities & Equity (t+1): 333779000000.0\n",
      "Final Balance Check: 0.0\n",
      "Sanity Check Passed: The complete, detailed model balances correctly.\n"
     ]
    }
   ],
   "source": [
    "def sum_assets(bs):\n",
    "    total = 0\n",
    "    for category in bs['total_assets'].values():\n",
    "        for item_value in category.values():\n",
    "            total += item_value\n",
    "    return total\n",
    "\n",
    "def sum_liabilities_and_equity(bs):\n",
    "    total = 0\n",
    "    for category in bs['total_liabilities'].values():\n",
    "        for item_value in category.values():\n",
    "            total += item_value\n",
    "    for item_value in bs['total_equity'].values():\n",
    "        total += item_value\n",
    "    return total\n",
    "\n",
    "# --- The Complete and Rigorous Moment of Truth ---\n",
    "total_assets_t_plus_1 = sum_assets(forecast_bs_t_plus_1)\n",
    "total_liabilities_and_equity_t_plus_1 = sum_liabilities_and_equity(forecast_bs_t_plus_1)\n",
    "\n",
    "balance_check = total_assets_t_plus_1 - total_liabilities_and_equity_t_plus_1\n",
    "\n",
    "print(f\"Total Assets (t+1): {total_assets_t_plus_1}\")\n",
    "print(f\"Total Liabilities & Equity (t+1): {total_liabilities_and_equity_t_plus_1}\")\n",
    "print(f\"Final Balance Check: {balance_check}\")\n",
    "\n",
    "# --- You should assert this value is extremely close to zero ---\n",
    "assert abs(balance_check) < 1e-6, \"BALANCE SHEET DOES NOT BALANCE!\"\n",
    "\n",
    "print(\"Sanity Check Passed: The complete, detailed model balances correctly.\")"
   ]
  },
  {
   "cell_type": "code",
   "execution_count": 23,
   "id": "c9a1c7d9",
   "metadata": {},
   "outputs": [
    {
     "data": {
      "text/plain": [
       "333779000000.0"
      ]
     },
     "execution_count": 23,
     "metadata": {},
     "output_type": "execute_result"
    }
   ],
   "source": [
    "sum_dict_values(base_balance_sheet[\"total_assets\"])"
   ]
  },
  {
   "cell_type": "code",
   "execution_count": 24,
   "id": "5e4dcffe",
   "metadata": {},
   "outputs": [
    {
     "name": "stdout",
     "output_type": "stream",
     "text": [
      "total_assets:\n",
      "  current_assets:\n",
      "    cash_and_equivalents:\n",
      "    receivables:\n",
      "    Inventory:\n",
      "    hedging_assets_current:\n",
      "    other_current_assets:\n",
      "  non_current_assets:\n",
      "    net_ppe:\n",
      "    investments:\n",
      "    goodwill:\n",
      "    other_non_current_assets:\n",
      "total_liabilities:\n",
      "  current_liabilities:\n",
      "    payables_and_accrued_expenses:\n",
      "    pension_and_other_postretirement_benefits:\n",
      "    current_debt:\n",
      "    current_deferred_liabilities:\n",
      "    other_current_liabilities:\n",
      "  non_current_liabilities:\n",
      "    long_term_debt:\n",
      "    non_current_deferred_liabilities:\n",
      "    tradeand_other_payables_non_current:\n",
      "    other_non_current_liabilities:\n",
      "total_equity:\n",
      "  capital_stock:\n",
      "  retained_earnings:\n",
      "  gains_losses_not_affecting_retained_earning:\n"
     ]
    }
   ],
   "source": [
    "# recursively print the base_balance_sheet dictionary keys and values\n",
    "def print_balance_sheet(d, indent=0):\n",
    "    for key, value in d.items():\n",
    "        print(' ' * indent + str(key) + ':')\n",
    "        if isinstance(value, dict):\n",
    "            print_balance_sheet(value, indent + 2)\n",
    "        else:\n",
    "            pass\n",
    "            # print(' ' * (indent + 2) + str(value))\n",
    "# print(\"Base Balance Sheet:\")\n",
    "print_balance_sheet(base_balance_sheet)"
   ]
  }
 ],
 "metadata": {
  "kernelspec": {
   "display_name": "balance",
   "language": "python",
   "name": "python3"
  },
  "language_info": {
   "codemirror_mode": {
    "name": "ipython",
    "version": 3
   },
   "file_extension": ".py",
   "mimetype": "text/x-python",
   "name": "python",
   "nbconvert_exporter": "python",
   "pygments_lexer": "ipython3",
   "version": "3.10.18"
  }
 },
 "nbformat": 4,
 "nbformat_minor": 5
}
