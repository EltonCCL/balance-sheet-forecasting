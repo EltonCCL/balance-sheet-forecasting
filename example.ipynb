{
 "cells": [
  {
   "cell_type": "code",
   "execution_count": 4,
   "id": "df81b90d",
   "metadata": {},
   "outputs": [],
   "source": [
    "from company_fs import CompanyFS\n",
    "from utils import build_recursively, sum_dict_values"
   ]
  },
  {
   "cell_type": "code",
   "execution_count": 2,
   "id": "53ca0f41",
   "metadata": {},
   "outputs": [],
   "source": [
    "# Example usage of the CompanyFS class\n",
    "msft_fs = CompanyFS(\"MSFT\")"
   ]
  },
  {
   "cell_type": "code",
   "execution_count": 7,
   "id": "8c21715e",
   "metadata": {},
   "outputs": [
    {
     "data": {
      "text/plain": [
       "{'total_assets': {'current_assets': {'cash_and_equivalents': 130256000000.0,\n",
       "   'receivables': 38043000000.0,\n",
       "   'Inventory': 2636000000.0,\n",
       "   'hedging_assets_current': 78000000.0,\n",
       "   'other_current_assets': 13393000000.0},\n",
       "  'non_current_assets': {'net_ppe': 70803000000.0,\n",
       "   'investments': 5984000000.0,\n",
       "   'goodwill': 57511000000.0,\n",
       "   'other_non_current_assets': 15075000000.0}},\n",
       " 'total_liabilities': {'current_liabilities': {'payables_and_accrued_expenses': 17337000000.0,\n",
       "   'pension_and_other_postretirement_benefits': 10057000000.0,\n",
       "   'current_debt': 8072000000.0,\n",
       "   'current_deferred_liabilities': 41525000000.0,\n",
       "   'other_current_liabilities': 11666000000.0},\n",
       "  'non_current_liabilities': {'long_term_debt': 59703000000.0,\n",
       "   'non_current_deferred_liabilities': 2814000000.0,\n",
       "   'tradeand_other_payables_non_current': 27190000000.0,\n",
       "   'other_non_current_liabilities': 13427000000.0}},\n",
       " 'total_equity': {'capital_stock': 83111000000.0,\n",
       "  'retained_earnings': 57055000000.0,\n",
       "  'gains_losses_not_affecting_retained_earning': 1822000000.0}}"
      ]
     },
     "execution_count": 7,
     "metadata": {},
     "output_type": "execute_result"
    }
   ],
   "source": [
    "# Basic usage example\n",
    "msft_fs.get_bs(\"2021-06-30\")\n",
    "\n",
    "# we still have\n",
    "# msft_fs.get_pnl(\"2021-06-30\")\n",
    "# msft_fs.get_cf(\"2021-06-30\")\n"
   ]
  },
  {
   "cell_type": "code",
   "execution_count": 5,
   "id": "005facb5",
   "metadata": {},
   "outputs": [
    {
     "data": {
      "text/plain": [
       "333779000000.0"
      ]
     },
     "execution_count": 5,
     "metadata": {},
     "output_type": "execute_result"
    }
   ],
   "source": [
    "# function to sum up the dictionary values\n",
    "sum_dict_values(msft_fs.get_bs(\"2021-06-30\")['total_assets'])"
   ]
  },
  {
   "cell_type": "code",
   "execution_count": 9,
   "id": "b35a585c",
   "metadata": {},
   "outputs": [
    {
     "name": "stdout",
     "output_type": "stream",
     "text": [
      "\n",
      "--- Year 1 Forecast ---\n",
      "Forecasted Total Assets: 414,333,358,887\n",
      "Forecasted Total Liabilities: 191,791,000,000\n",
      "Forecasted Total Equity: 222,542,358,887\n",
      "Balance Check (should be 0): 0.0\n",
      "\n",
      "--- Year 2 Forecast ---\n",
      "Forecasted Total Assets: 498,903,674,249\n",
      "Forecasted Total Liabilities: 191,791,000,000\n",
      "Forecasted Total Equity: 307,112,674,249\n",
      "Balance Check (should be 0): 0.0\n",
      "\n",
      "--- Quick Access Examples ---\n",
      "Year 1 Total Assets: 414,333,358,887\n",
      "Year 2 Total Assets: 498,903,674,249\n"
     ]
    }
   ],
   "source": [
    "# Forecast the company balance sheet\n",
    "forecasted_years = msft_fs.forecast_balancesheet(\n",
    "    \"2021-06-30\", num_years=2, override=None\n",
    ")\n",
    "\n",
    "# Display results for each forecasted year\n",
    "for i, (forecast_bs, forecast_drivers) in enumerate(forecasted_years, 1):\n",
    "    print(f\"\\n--- Year {i} Forecast ---\")\n",
    "    # print(f\"Forecasted Sales: {forecast_drivers['sales']:,.0f}\")\n",
    "    # print(f\"Forecasted Net Income: {forecast_drivers['net_income']:,.0f}\")\n",
    "    print(\n",
    "        f\"Forecasted Total Assets: {sum_dict_values(forecast_bs['total_assets']):,.0f}\"\n",
    "    )\n",
    "    print(\n",
    "        f\"Forecasted Total Liabilities: {sum_dict_values(forecast_bs['total_liabilities']):,.0f}\"\n",
    "    )\n",
    "    print(\n",
    "        f\"Forecasted Total Equity: {sum_dict_values(forecast_bs['total_equity']):,.0f}\"\n",
    "    )\n",
    "\n",
    "    # Verify balance sheet equation\n",
    "    total_assets = sum_dict_values(forecast_bs[\"total_assets\"])\n",
    "    total_liab_equity = sum_dict_values(\n",
    "        forecast_bs[\"total_liabilities\"]\n",
    "    ) + sum_dict_values(forecast_bs[\"total_equity\"])\n",
    "    print(f\"Balance Check (should be 0): {total_assets - total_liab_equity}\")\n",
    "\n",
    "# Example of accessing specific years:\n",
    "print(f\"\\n--- Quick Access Examples ---\")\n",
    "for i, (forecast_bs, _) in enumerate(forecasted_years):\n",
    "    print(\n",
    "        f\"Year {i+1} Total Assets: {sum_dict_values(forecast_bs['total_assets']):,.0f}\"\n",
    "    )"
   ]
  },
  {
   "cell_type": "code",
   "execution_count": 10,
   "id": "37591326",
   "metadata": {},
   "outputs": [
    {
     "name": "stdout",
     "output_type": "stream",
     "text": [
      "\n",
      "--- Year 1 Forecast ---\n",
      "Forecasted Total Assets: 333,779,000,000\n",
      "Forecasted Total Liabilities: 191,791,000,000\n",
      "Forecasted Total Equity: 141,988,000,000\n",
      "Balance Check (should be 0): 0.0\n",
      "\n",
      "--- Year 2 Forecast ---\n",
      "Forecasted Total Assets: 333,779,000,000\n",
      "Forecasted Total Liabilities: 191,791,000,000\n",
      "Forecasted Total Equity: 141,988,000,000\n",
      "Balance Check (should be 0): 0.0\n",
      "\n",
      "--- Quick Access Examples ---\n",
      "Year 1 Total Assets: 333,779,000,000\n",
      "Year 2 Total Assets: 333,779,000,000\n"
     ]
    }
   ],
   "source": [
    "# Override drivers for the forecast\n",
    "override_driver = {\n",
    "    \"dividend_payout_ratio\": 1,\n",
    "}\n",
    "# Forecast the company balance sheet\n",
    "forecasted_years = msft_fs.forecast_balancesheet(\n",
    "    \"2021-06-30\", num_years=2, override=override_driver\n",
    ")\n",
    "\n",
    "# Display results for each forecasted year\n",
    "for i, (forecast_bs, forecast_drivers) in enumerate(forecasted_years, 1):\n",
    "    print(f\"\\n--- Year {i} Forecast ---\")\n",
    "    # print(f\"Forecasted Sales: {forecast_drivers['sales']:,.0f}\")\n",
    "    # print(f\"Forecasted Net Income: {forecast_drivers['net_income']:,.0f}\")\n",
    "    print(\n",
    "        f\"Forecasted Total Assets: {sum_dict_values(forecast_bs['total_assets']):,.0f}\"\n",
    "    )\n",
    "    print(\n",
    "        f\"Forecasted Total Liabilities: {sum_dict_values(forecast_bs['total_liabilities']):,.0f}\"\n",
    "    )\n",
    "    print(\n",
    "        f\"Forecasted Total Equity: {sum_dict_values(forecast_bs['total_equity']):,.0f}\"\n",
    "    )\n",
    "\n",
    "    # Verify balance sheet equation\n",
    "    total_assets = sum_dict_values(forecast_bs[\"total_assets\"])\n",
    "    total_liab_equity = sum_dict_values(\n",
    "        forecast_bs[\"total_liabilities\"]\n",
    "    ) + sum_dict_values(forecast_bs[\"total_equity\"])\n",
    "    print(f\"Balance Check (should be 0): {total_assets - total_liab_equity}\")\n",
    "\n",
    "# Example of accessing specific years:\n",
    "print(f\"\\n--- Quick Access Examples ---\")\n",
    "for i, (forecast_bs, _) in enumerate(forecasted_years):\n",
    "    print(\n",
    "        f\"Year {i+1} Total Assets: {sum_dict_values(forecast_bs['total_assets']):,.0f}\"\n",
    "    )"
   ]
  }
 ],
 "metadata": {
  "kernelspec": {
   "display_name": "balance",
   "language": "python",
   "name": "python3"
  },
  "language_info": {
   "codemirror_mode": {
    "name": "ipython",
    "version": 3
   },
   "file_extension": ".py",
   "mimetype": "text/x-python",
   "name": "python",
   "nbconvert_exporter": "python",
   "pygments_lexer": "ipython3",
   "version": "3.10.18"
  }
 },
 "nbformat": 4,
 "nbformat_minor": 5
}
